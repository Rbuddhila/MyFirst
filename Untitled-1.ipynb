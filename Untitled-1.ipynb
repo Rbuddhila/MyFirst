{
 "cells": [
  {
   "cell_type": "code",
   "execution_count": 2,
   "metadata": {},
   "outputs": [
    {
     "name": "stdout",
     "output_type": "stream",
     "text": [
      "   A  not_in_df2\n",
      "0  1        True\n",
      "1  2        True\n",
      "2  3       False\n",
      "3  4       False\n",
      "4  5       False\n"
     ]
    }
   ],
   "source": [
    "import pandas as pd\n",
    "# Sample DataFrame 1\n",
    "df1 = pd.DataFrame({\n",
    "    'A': [1, 2, 3, 4, 5]\n",
    "})\n",
    "\n",
    "# Sample DataFrame 2\n",
    "df2 = pd.DataFrame({\n",
    "    'B': [3, 4, 5, 6, 7]\n",
    "})\n",
    "\n",
    "# Initialize a new column in df1 to store the result\n",
    "df1['not_in_df2'] = False\n",
    "\n",
    "# Iterate over each row in df1\n",
    "for index, row in df1.iterrows():\n",
    "    # Check if the value in column 'A' is NOT present in column 'B' of df2\n",
    "    if row['A'] not in df2['B'].values:\n",
    "        df1.at[index, 'not_in_df2'] = True\n",
    "\n",
    "print(df1)\n"
   ]
  },
  {
   "cell_type": "code",
   "execution_count": 6,
   "metadata": {},
   "outputs": [
    {
     "name": "stdout",
     "output_type": "stream",
     "text": [
      "ID_01\n",
      "ID_02\n",
      "ID_03\n",
      "ID_04\n",
      "ID_05\n",
      "ID_06\n",
      "ID_07\n",
      "ID_08\n",
      "ID_09\n",
      "ID_10\n",
      "ID_11\n"
     ]
    }
   ],
   "source": [
    "prefix = \"ID_\"\n",
    "for i in range(1, 12):  # Adjust the range as needed\n",
    "    id_str = f\"{prefix}{i:02}\"  # f-string with leading zero formatting\n",
    "    print(id_str)"
   ]
  },
  {
   "cell_type": "code",
   "execution_count": 1,
   "metadata": {},
   "outputs": [
    {
     "ename": "ModuleNotFoundError",
     "evalue": "No module named 'tsplot'",
     "output_type": "error",
     "traceback": [
      "\u001b[1;31m---------------------------------------------------------------------------\u001b[0m",
      "\u001b[1;31mModuleNotFoundError\u001b[0m                       Traceback (most recent call last)",
      "\u001b[1;32m~\\AppData\\Local\\Temp\\ipykernel_10988\\3449151557.py\u001b[0m in \u001b[0;36m<module>\u001b[1;34m\u001b[0m\n\u001b[1;32m----> 1\u001b[1;33m \u001b[1;32mimport\u001b[0m \u001b[0mtsplot\u001b[0m \u001b[1;32mas\u001b[0m \u001b[0mtsp\u001b[0m\u001b[1;33m\u001b[0m\u001b[1;33m\u001b[0m\u001b[0m\n\u001b[0m\u001b[0;32m      2\u001b[0m \u001b[1;32mimport\u001b[0m \u001b[0mmatplotlib\u001b[0m\u001b[1;33m.\u001b[0m\u001b[0mpyplot\u001b[0m \u001b[1;32mas\u001b[0m \u001b[0mplt\u001b[0m\u001b[1;33m\u001b[0m\u001b[1;33m\u001b[0m\u001b[0m\n\u001b[0;32m      3\u001b[0m \u001b[1;33m\u001b[0m\u001b[0m\n\u001b[0;32m      4\u001b[0m \u001b[1;31m# Create sample dataframes\u001b[0m\u001b[1;33m\u001b[0m\u001b[1;33m\u001b[0m\u001b[0m\n\u001b[0;32m      5\u001b[0m \u001b[0mdf1\u001b[0m \u001b[1;33m=\u001b[0m \u001b[0mpd\u001b[0m\u001b[1;33m.\u001b[0m\u001b[0mDataFrame\u001b[0m\u001b[1;33m(\u001b[0m\u001b[1;33m{\u001b[0m\u001b[1;34m'Time'\u001b[0m\u001b[1;33m:\u001b[0m \u001b[1;33m[\u001b[0m\u001b[1;36m1\u001b[0m\u001b[1;33m,\u001b[0m \u001b[1;36m2\u001b[0m\u001b[1;33m,\u001b[0m \u001b[1;36m3\u001b[0m\u001b[1;33m]\u001b[0m\u001b[1;33m,\u001b[0m \u001b[1;34m'Value'\u001b[0m\u001b[1;33m:\u001b[0m \u001b[1;33m[\u001b[0m\u001b[1;36m10\u001b[0m\u001b[1;33m,\u001b[0m \u001b[1;36m20\u001b[0m\u001b[1;33m,\u001b[0m \u001b[1;36m30\u001b[0m\u001b[1;33m]\u001b[0m\u001b[1;33m}\u001b[0m\u001b[1;33m)\u001b[0m\u001b[1;33m\u001b[0m\u001b[1;33m\u001b[0m\u001b[0m\n",
      "\u001b[1;31mModuleNotFoundError\u001b[0m: No module named 'tsplot'"
     ]
    }
   ],
   "source": [
    "import tsplot as tsp\n",
    "import matplotlib.pyplot as plt\n",
    "\n",
    "# Create sample dataframes\n",
    "df1 = pd.DataFrame({'Time': [1, 2, 3], 'Value': [10, 20, 30]})\n",
    "df2 = pd.DataFrame({'Time': [1, 2, 3], 'Value': [5, 15, 25]})\n",
    "\n",
    "# Create tsplot objects\n",
    "ts1 = tsp.tsplot(df1)\n",
    "ts1.set_title('Graph 1')\n",
    "\n",
    "ts2 = tsp.tsplot(df2)\n",
    "ts2.set_title('Graph 2')\n",
    "\n",
    "# Create a figure with multiple subplots\n",
    "fig, axes = plt.subplots(2, 1, figsize=(10, 8))\n",
    "\n",
    "# Plot each graph in a separate subplot\n",
    "ts1.show(ax=axes[0])\n",
    "ts2.show(ax=axes[1])\n",
    "\n",
    "# Save the figure as a PDF\n",
    "plt.savefig('combined_graphs.pdf')"
   ]
  }
 ],
 "metadata": {
  "kernelspec": {
   "display_name": "base",
   "language": "python",
   "name": "python3"
  },
  "language_info": {
   "codemirror_mode": {
    "name": "ipython",
    "version": 3
   },
   "file_extension": ".py",
   "mimetype": "text/x-python",
   "name": "python",
   "nbconvert_exporter": "python",
   "pygments_lexer": "ipython3",
   "version": "3.9.13"
  }
 },
 "nbformat": 4,
 "nbformat_minor": 2
}
